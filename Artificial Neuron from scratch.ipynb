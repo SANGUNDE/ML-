{
  "nbformat": 4,
  "nbformat_minor": 0,
  "metadata": {
    "colab": {
      "provenance": [],
      "authorship_tag": "ABX9TyPnYkV8V0zFXAc7HyDT8uik",
      "include_colab_link": true
    },
    "kernelspec": {
      "name": "python3",
      "display_name": "Python 3"
    },
    "language_info": {
      "name": "python"
    }
  },
  "cells": [
    {
      "cell_type": "markdown",
      "metadata": {
        "id": "view-in-github",
        "colab_type": "text"
      },
      "source": [
        "<a href=\"https://colab.research.google.com/github/SANGUNDE/ML-/blob/main/Artificial%20Neuron%20from%20scratch.ipynb\" target=\"_parent\"><img src=\"https://colab.research.google.com/assets/colab-badge.svg\" alt=\"Open In Colab\"/></a>"
      ]
    },
    {
      "cell_type": "code",
      "execution_count": 1,
      "metadata": {
        "id": "QnK43NhCAbF8"
      },
      "outputs": [],
      "source": [
        "import numpy as np"
      ]
    },
    {
      "cell_type": "code",
      "source": [
        "class ArtificialNeuron:\n",
        "  def __init__ (self, n_input, activation='logistic'):\n",
        "    self.weights = np.random.randn(n_input)\n",
        "    self.bais = np.random.randn()\n",
        "    self.activation = activation\n",
        "\n",
        "  def __call__(self, X):\n",
        "    z = np.dot(self.weights, X) + self.bais\n",
        "    if self.activation == 'logistic':\n",
        "      a = 1 / (1 + np.exp(-z))\n",
        "    elif self.activation == 'relu':\n",
        "      a = np.maximum(0, z)\n",
        "    elif self.activation == 'linear':\n",
        "      a = z\n",
        "    return a\n",
        "\n",
        "neuron = ArtificialNeuron(n_input=3, activation='relu')\n",
        "x= np.array([1,2,3])\n",
        "y = neuron(x)\n",
        "\n",
        "print(f'input: {x}')\n",
        "print(f'output: {y}')\n",
        "print(f'weights: {neuron.weights}')\n",
        "print(f'bais: {neuron.bais}')\n"
      ],
      "metadata": {
        "colab": {
          "base_uri": "https://localhost:8080/"
        },
        "id": "DsWvZ6jXAmm1",
        "outputId": "496f54bc-ec5a-45cd-b237-e24e68434d18"
      },
      "execution_count": 3,
      "outputs": [
        {
          "output_type": "stream",
          "name": "stdout",
          "text": [
            "input: [1 2 3]\n",
            "output: 0.44461818813252607\n",
            "weights: [-1.16830133  0.33055157 -0.01700902]\n",
            "bais: 1.0028434407549773\n"
          ]
        }
      ]
    },
    {
      "cell_type": "code",
      "source": [],
      "metadata": {
        "id": "_slok9YQCFkz"
      },
      "execution_count": null,
      "outputs": []
    }
  ]
}